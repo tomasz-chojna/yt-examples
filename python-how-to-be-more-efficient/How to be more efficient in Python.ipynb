{
 "cells": [
  {
   "cell_type": "markdown",
   "id": "10d0497c",
   "metadata": {},
   "source": [
    "# 1. Naming conventions"
   ]
  },
  {
   "cell_type": "code",
   "execution_count": 48,
   "id": "5499e4ab",
   "metadata": {},
   "outputs": [
    {
     "data": {
      "text/plain": [
       "([-10, -7, -3, 0], [1, 5, 7, 9])"
      ]
     },
     "execution_count": 48,
     "metadata": {},
     "output_type": "execute_result"
    }
   ],
   "source": [
    "# Bad Example\n",
    "\n",
    "numbers = [-10, -7, -3, 0, 1, 5, 7, 9]\n",
    "\n",
    "# In Python variables and functions should be named using snake_case\n",
    "# CamelCase should only be applied to class names\n",
    "#\n",
    "# data is too generic name\n",
    "def splitNumbers(data):\n",
    "    # x, y are clear only for a short period while implementing the function\n",
    "    #\n",
    "    # If you come back to this code after a few months, you will need to perform\n",
    "    # some reverse engineering unnecessarily\n",
    "    x = []\n",
    "    y = []\n",
    "    \n",
    "    for i in range(len(data)):\n",
    "        if data[i] <= 0:\n",
    "            x.append(data[i])\n",
    "        else:\n",
    "            y.append(data[i])\n",
    "            \n",
    "    return x, y\n",
    "\n",
    "splitNumbers(numbers)"
   ]
  },
  {
   "cell_type": "code",
   "execution_count": 4,
   "id": "45a9a9c5",
   "metadata": {},
   "outputs": [
    {
     "data": {
      "text/plain": [
       "([-10, -7, -3, 0], [1, 5, 7, 9])"
      ]
     },
     "execution_count": 4,
     "metadata": {},
     "output_type": "execute_result"
    }
   ],
   "source": [
    "# Good Example - Better naming\n",
    "\n",
    "# Follows snake_case for function names\n",
    "#\n",
    "# \"data\" argument renamed to numbers which represents the expectation better\n",
    "def split_numbers(numbers):\n",
    "    # clear variable names\n",
    "    non_positives = []\n",
    "    positives = []\n",
    "    \n",
    "    for i in range(len(numbers)):\n",
    "        if numbers[i] <= 0:\n",
    "            non_positives.append(numbers[i])\n",
    "        else:\n",
    "            positives.append(numbers[i])\n",
    "            \n",
    "    return non_positives, positives\n",
    "\n",
    "split_numbers(numbers)"
   ]
  },
  {
   "cell_type": "markdown",
   "id": "27b861e3",
   "metadata": {},
   "source": [
    "# 2. Unpacking values from a tuple/list"
   ]
  },
  {
   "cell_type": "code",
   "execution_count": 5,
   "id": "c030be22",
   "metadata": {},
   "outputs": [
    {
     "data": {
      "text/plain": [
       "True"
      ]
     },
     "execution_count": 5,
     "metadata": {},
     "output_type": "execute_result"
    }
   ],
   "source": [
    "# Bad example\n",
    "\n",
    "user = (134325, \"admin\", \"John\")\n",
    "\n",
    "def is_admin(user):\n",
    "    # For a reader magic number, like 1 here will be difficult to understand\n",
    "    return user[1] == \"admin\"\n",
    "\n",
    "is_admin(user)"
   ]
  },
  {
   "cell_type": "code",
   "execution_count": null,
   "id": "3580f567",
   "metadata": {},
   "outputs": [],
   "source": [
    "# Improved example\n",
    "\n",
    "def is_admin(user):\n",
    "    # If you have to use indexes directly, at least assign them to descriptively named variables,\n",
    "    # that also makes them more reusable and easier to change (in case the tuple structure has changed)\n",
    "    ROLE = 1\n",
    "    return user[ROLE] == \"admin\"\n",
    "\n",
    "is_admin(user)"
   ]
  },
  {
   "cell_type": "code",
   "execution_count": 6,
   "id": "fe288ec1",
   "metadata": {},
   "outputs": [
    {
     "data": {
      "text/plain": [
       "True"
      ]
     },
     "execution_count": 6,
     "metadata": {},
     "output_type": "execute_result"
    }
   ],
   "source": [
    "# Good example\n",
    "\n",
    "def is_admin(user):\n",
    "    # Tuple unpacking, _ can be used to indicate a placeholder (values we don't need at a moment)\n",
    "    _, role, _ = user\n",
    "    return role == \"admin\"\n",
    "\n",
    "is_admin(user)"
   ]
  },
  {
   "cell_type": "code",
   "execution_count": 50,
   "id": "52fa6beb",
   "metadata": {},
   "outputs": [
    {
     "data": {
      "text/plain": [
       "(134325, ['admin', 'John', 'Zurich', 'Programmer', 30])"
      ]
     },
     "execution_count": 50,
     "metadata": {},
     "output_type": "execute_result"
    }
   ],
   "source": [
    "# Unpacking to conrete variable names is practical only to some extent\n",
    "\n",
    "# If there is a lot of items to unpack and we need just some of them, there is a better way\n",
    "profile = (134325, \"admin\", \"John\", \"Zurich\", \"Programmer\", 30)\n",
    "\n",
    "# We would read just the first value and place all of the other elements in a list\n",
    "user_id, *details = profile\n",
    "\n",
    "user_id, details"
   ]
  },
  {
   "cell_type": "code",
   "execution_count": 51,
   "id": "1bbfb0b1",
   "metadata": {},
   "outputs": [
    {
     "data": {
      "text/plain": [
       "(134325, ['admin', 'John', 'Zurich', 'Programmer', 30])"
      ]
     },
     "execution_count": 51,
     "metadata": {},
     "output_type": "execute_result"
    }
   ],
   "source": [
    "# In case you don't need the other values, use the placeholder character as in the previous example\n",
    "user_id, *_ = profile\n",
    "\n",
    "user_id, _"
   ]
  },
  {
   "cell_type": "markdown",
   "id": "c7385188",
   "metadata": {},
   "source": [
    "# 3. Simplify IF statements"
   ]
  },
  {
   "cell_type": "code",
   "execution_count": 11,
   "id": "3a218595",
   "metadata": {},
   "outputs": [],
   "source": [
    "# Bad Example\n",
    "def delete_item(user, item):\n",
    "    # == True is redundant as is_admin() result is a boolean value already\n",
    "    if is_admin(user) == True:\n",
    "        ...\n",
    "    else:\n",
    "        raise Exception"
   ]
  },
  {
   "cell_type": "code",
   "execution_count": null,
   "id": "d8c63faa",
   "metadata": {},
   "outputs": [],
   "source": [
    "def delete_item(user, item):\n",
    "    # Anything that is a boolean or can be casted to boolean is ok\n",
    "    if is_admin(user):\n",
    "        ...\n",
    "    else:\n",
    "        raise Exception"
   ]
  },
  {
   "cell_type": "code",
   "execution_count": 16,
   "id": "10c00950",
   "metadata": {},
   "outputs": [],
   "source": [
    "# No need to use len for checking emptiness of the list\n",
    "if len(numbers) == 0:\n",
    "    pass"
   ]
  },
  {
   "cell_type": "code",
   "execution_count": 18,
   "id": "7bb09da8",
   "metadata": {},
   "outputs": [],
   "source": [
    "# Placing a list directly in the condition will be evaluated correctly\n",
    "if not numbers:\n",
    "    pass"
   ]
  },
  {
   "cell_type": "code",
   "execution_count": 19,
   "id": "3efd5a09",
   "metadata": {},
   "outputs": [],
   "source": [
    "# Be aware of numeric value that can be None as well\n",
    "def compute_formula(x, optional_y):\n",
    "    # Let's say you want to reach this if branch only if optiona_y=None\n",
    "    # 0 is going to be evaluated to False unfortunately\n",
    "    if not optional_y:\n",
    "        ...\n",
    "    else:\n",
    "        ..."
   ]
  },
  {
   "cell_type": "code",
   "execution_count": null,
   "id": "cac51056",
   "metadata": {},
   "outputs": [],
   "source": [
    "def compute_formula(x, optional_y):\n",
    "    # In such case None check is a better choice\n",
    "    if optional_y is None:\n",
    "        ...\n",
    "    else:\n",
    "        ..."
   ]
  },
  {
   "cell_type": "markdown",
   "id": "fd372d54",
   "metadata": {},
   "source": [
    "# 4. Simplify Loops"
   ]
  },
  {
   "cell_type": "code",
   "execution_count": 20,
   "id": "1a5a4a1c",
   "metadata": {},
   "outputs": [],
   "source": [
    "# Bad Example - Too complicated for loop construct\n",
    "\n",
    "def split_numbers(numbers):\n",
    "    non_positives = []\n",
    "    positives = []\n",
    "\n",
    "    # In other programming languages, such a loop could look like this\n",
    "    # for (int i=0; i < numbers.length; i++) {\n",
    "    #   if (numbers[i] <= 0) {\n",
    "    #   ...\n",
    "    # }\n",
    "    # \n",
    "    # Translating such a construct to Python directly is not optimal.\n",
    "    # For in range loop should be used only for more advanced scenarios, in which\n",
    "    # \"for item in iterable\" is insufficient, usually some algorithms\n",
    "    for i in range(len(numbers)):\n",
    "        if numbers[i] <= 0:\n",
    "            non_positives.append(numbers[i])\n",
    "        else:\n",
    "            positives.append(numbers[i])\n",
    "            \n",
    "    return non_positives, positives\n"
   ]
  },
  {
   "cell_type": "code",
   "execution_count": null,
   "id": "e13328d4",
   "metadata": {},
   "outputs": [],
   "source": [
    "# Good example - simple for-each loop\n",
    "\n",
    "def split_numbers(numbers):\n",
    "    non_positives = []\n",
    "    positives = []\n",
    "    \n",
    "    # \"For-each\" equivalent, much cleaner\n",
    "    # Saves us from having to access the list elements by the index\n",
    "    for number in numbers:\n",
    "        if number <= 0:\n",
    "            non_positives.append(number)\n",
    "        else:\n",
    "            positives.append(number)\n",
    "            \n",
    "    return non_positives, positives"
   ]
  },
  {
   "cell_type": "code",
   "execution_count": 21,
   "id": "079fe0f2",
   "metadata": {},
   "outputs": [],
   "source": [
    "# Good example - simple for-each + tracking the index anyway\n",
    "\n",
    "def split_numbers(numbers):\n",
    "    non_positives = []\n",
    "    positives = []\n",
    "    \n",
    "    # Enumerate is a generator that renders tuples (index, item)\n",
    "    # We can conveniently unpack them on the loop level\n",
    "    for index, number in enumerate(numbers):\n",
    "        if number <= 0:\n",
    "            non_positives.append(number)\n",
    "        else:\n",
    "            positives.append(number)\n",
    "            \n",
    "    return non_positives, positives"
   ]
  },
  {
   "cell_type": "markdown",
   "id": "fd96ffd7",
   "metadata": {},
   "source": [
    "# 5. Iteration patterns - multiple lists"
   ]
  },
  {
   "cell_type": "code",
   "execution_count": null,
   "id": "62b058f8",
   "metadata": {},
   "outputs": [],
   "source": [
    "# Bad Example - too complicated iteration over 2 lists\n",
    "\n",
    "# Let's say x and y represent values in 2 columns\n",
    "# We would like to add them, but need to iterate over 2 lists simultaneously\n",
    "# One \n",
    "def compute_formula(x, y):\n",
    "    for i in range(len(x)):\n",
    "        x[i] + y[i]"
   ]
  },
  {
   "cell_type": "code",
   "execution_count": 23,
   "id": "eefb7b4b",
   "metadata": {},
   "outputs": [],
   "source": [
    "# Good Example - using zip to iterate over multiple lists at the same time\n",
    "\n",
    "def compute_formula(x, y):\n",
    "    # Zip renders tuples that can be nicely unpacked at the loop level\n",
    "    for x_value, y_value in zip(x, y):\n",
    "        x_value + y_value"
   ]
  },
  {
   "cell_type": "markdown",
   "id": "5322f593",
   "metadata": {},
   "source": [
    "# 6. Iteration patterns - dictionary"
   ]
  },
  {
   "cell_type": "code",
   "execution_count": 24,
   "id": "3ce00c66",
   "metadata": {},
   "outputs": [
    {
     "name": "stdout",
     "output_type": "stream",
     "text": [
      "0 Low\n",
      "1 Medium\n",
      "2 High\n"
     ]
    }
   ],
   "source": [
    "mapping = {\n",
    "    0: \"Low\",\n",
    "    1: \"Medium\",\n",
    "    2: \"High\"\n",
    "}\n",
    "\n",
    "for key, value in mapping.items():\n",
    "    print(key, value)"
   ]
  },
  {
   "cell_type": "markdown",
   "id": "5b7a5196",
   "metadata": {},
   "source": [
    "# 7. Dictionary - counting occurrences"
   ]
  },
  {
   "cell_type": "code",
   "execution_count": 29,
   "id": "7579a537",
   "metadata": {},
   "outputs": [
    {
     "data": {
      "text/plain": [
       "{'this': 1,\n",
       " 'is': 1,\n",
       " 'some': 1,\n",
       " 'sentence': 2,\n",
       " 'with': 1,\n",
       " 'word': 1,\n",
       " 'repeated': 1}"
      ]
     },
     "execution_count": 29,
     "metadata": {},
     "output_type": "execute_result"
    }
   ],
   "source": [
    "# Most basic version\n",
    "\n",
    "text = \"This is some sentence with sentence word repeated\"\n",
    "\n",
    "def build_histogram(text):\n",
    "    words = text.lower().split()\n",
    "    \n",
    "    # We would like to create a histogram of words\n",
    "    # as a dictionary where a word is the key and occurrence the value\n",
    "    histogram = {}\n",
    "    \n",
    "    for word in words:\n",
    "        # We need to make sure that a key exists, before we increment by 1\n",
    "        if word not in histogram:\n",
    "            histogram[word] = 0\n",
    "            \n",
    "        histogram[word] += 1\n",
    "        \n",
    "    return histogram\n",
    "\n",
    "build_histogram(text)"
   ]
  },
  {
   "cell_type": "code",
   "execution_count": 30,
   "id": "0ee5c321",
   "metadata": {},
   "outputs": [
    {
     "data": {
      "text/plain": [
       "defaultdict(int,\n",
       "            {'this': 1,\n",
       "             'is': 1,\n",
       "             'some': 1,\n",
       "             'sentence': 2,\n",
       "             'with': 1,\n",
       "             'word': 1,\n",
       "             'repeated': 1})"
      ]
     },
     "execution_count": 30,
     "metadata": {},
     "output_type": "execute_result"
    }
   ],
   "source": [
    "# Simpler - using defaultdict data structure\n",
    "\n",
    "from collections import defaultdict\n",
    "\n",
    "def build_histogram(text):\n",
    "    words = text.lower().split()\n",
    "    \n",
    "    # Default dict allows to configure default value for a key that doesn't exist yet\n",
    "    # Normally if you do dict_variable[non_existing_key] += 1, it would raise a KeyError.\n",
    "    # Here by operator overload within the defaultdict, missing key handling is transparent to the user\n",
    "    histogram = defaultdict(int)\n",
    "    \n",
    "    for word in words:\n",
    "        histogram[word] += 1\n",
    "        \n",
    "    return histogram\n",
    "\n",
    "build_histogram(text)"
   ]
  },
  {
   "cell_type": "code",
   "execution_count": 36,
   "id": "bdd2a3c4",
   "metadata": {},
   "outputs": [
    {
     "data": {
      "text/plain": [
       "{'sentence': 2, 'this': 1, 'is': 1}"
      ]
     },
     "execution_count": 36,
     "metadata": {},
     "output_type": "execute_result"
    }
   ],
   "source": [
    "# The simplest method - Counter\n",
    "\n",
    "from collections import Counter\n",
    "\n",
    "def build_histogram(text):\n",
    "    words = text.lower().split()\n",
    "    \n",
    "    # Out of the box counting, no need to re-invent the wheel\n",
    "    counter = Counter(words)\n",
    "    \n",
    "    # Most common without any arguments simply returns all keys and counts\n",
    "    return dict(counter.most_common(3))\n",
    "\n",
    "build_histogram(text)"
   ]
  },
  {
   "cell_type": "code",
   "execution_count": 40,
   "id": "4bc68253",
   "metadata": {},
   "outputs": [
    {
     "data": {
      "text/plain": [
       "True"
      ]
     },
     "execution_count": 40,
     "metadata": {},
     "output_type": "execute_result"
    }
   ],
   "source": [
    "# Another example, checking if 2 words are anagrams\n",
    "\n",
    "word_a = \"aabcdd\"\n",
    "word_b = \"adadbc\"\n",
    "\n",
    "Counter(word_a) == Counter(word_b)"
   ]
  },
  {
   "cell_type": "markdown",
   "id": "54a8b118",
   "metadata": {},
   "source": [
    "# 8. List comprehensions"
   ]
  },
  {
   "cell_type": "code",
   "execution_count": 41,
   "id": "528cfa9f",
   "metadata": {},
   "outputs": [
    {
     "data": {
      "text/plain": [
       "([-10, -7, -3, 0], [1, 5, 7, 9])"
      ]
     },
     "execution_count": 41,
     "metadata": {},
     "output_type": "execute_result"
    }
   ],
   "source": [
    "def split_numbers(numbers):\n",
    "    # Provided filtering/transformation is simple, usually one-liner\n",
    "    # literal list creation via comprehension is shorter and cleaner\n",
    "    #\n",
    "    # but if it evolved to more complicated case, regular loop is a better option\n",
    "    non_positives = [number for number in numbers if number <= 0]\n",
    "    positives = [number for number in numbers if number > 0]\n",
    "            \n",
    "    return non_positives, positives\n",
    "\n",
    "split_numbers(numbers)"
   ]
  },
  {
   "cell_type": "code",
   "execution_count": 42,
   "id": "a5f374a4",
   "metadata": {},
   "outputs": [
    {
     "data": {
      "text/plain": [
       "[1, 2, 3]"
      ]
     },
     "execution_count": 42,
     "metadata": {},
     "output_type": "execute_result"
    }
   ],
   "source": [
    "# Common use case - extract one of the values from the tuples and create a new list\n",
    "users = [\n",
    "    (1, \"admin\"),\n",
    "    (2, \"editor\"),\n",
    "    (3, \"viewer\")\n",
    "]\n",
    "\n",
    "[user_id for user_id, _ in users]"
   ]
  },
  {
   "cell_type": "markdown",
   "id": "44335f2d",
   "metadata": {},
   "source": [
    "# 9. Sorting"
   ]
  },
  {
   "cell_type": "code",
   "execution_count": 44,
   "id": "744a6432",
   "metadata": {},
   "outputs": [
    {
     "data": {
      "text/plain": [
       "[(3, 'viewer', 27), (1, 'admin', 25), (2, 'editor', 20)]"
      ]
     },
     "execution_count": 44,
     "metadata": {},
     "output_type": "execute_result"
    }
   ],
   "source": [
    "users = [\n",
    "    (1, \"admin\", 25),\n",
    "    (2, \"editor\", 20),\n",
    "    (3, \"viewer\", 27)\n",
    "]\n",
    "\n",
    "# sort method peforms in-place operation\n",
    "users.sort(key=lambda x: x[2], reverse=True)\n",
    "\n",
    "# the list gets mutated here, might be unwanted side-effect if the list is supplied from some external context\n",
    "users"
   ]
  },
  {
   "cell_type": "code",
   "execution_count": 46,
   "id": "ec8a0c5c",
   "metadata": {},
   "outputs": [
    {
     "data": {
      "text/plain": [
       "[(2, 'editor', 20), (1, 'admin', 25), (3, 'viewer', 27)]"
      ]
     },
     "execution_count": 46,
     "metadata": {},
     "output_type": "execute_result"
    }
   ],
   "source": [
    "users = [\n",
    "    (1, \"admin\", 25),\n",
    "    (2, \"editor\", 20),\n",
    "    (3, \"viewer\", 27)\n",
    "]\n",
    "\n",
    "# sorted function is a safer choice, in which original list stays untouched\n",
    "# sorted version is a new instance\n",
    "sorted(users, key=lambda x: x[2])"
   ]
  },
  {
   "cell_type": "code",
   "execution_count": 47,
   "id": "934f5c8f",
   "metadata": {},
   "outputs": [
    {
     "data": {
      "text/plain": [
       "[(1, 'admin', 25), (2, 'editor', 20), (3, 'viewer', 27)]"
      ]
     },
     "execution_count": 47,
     "metadata": {},
     "output_type": "execute_result"
    }
   ],
   "source": [
    "# you can see that the original variable hasn't been updated by the sorting\n",
    "users"
   ]
  }
 ],
 "metadata": {
  "kernelspec": {
   "display_name": "Python 3",
   "language": "python",
   "name": "python3"
  },
  "language_info": {
   "codemirror_mode": {
    "name": "ipython",
    "version": 3
   },
   "file_extension": ".py",
   "mimetype": "text/x-python",
   "name": "python",
   "nbconvert_exporter": "python",
   "pygments_lexer": "ipython3",
   "version": "3.9.6"
  }
 },
 "nbformat": 4,
 "nbformat_minor": 5
}
